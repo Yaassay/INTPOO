{
 "cells": [
  {
   "cell_type": "markdown",
   "id": "a027a000-2432-4d25-b089-7c7655c6b0a1",
   "metadata": {},
   "source": [
    "# Lista exercicios 06 "
   ]
  },
  {
   "cell_type": "markdown",
   "id": "45daf621-9479-4b4d-9bab-642f74afc1a2",
   "metadata": {},
   "source": [
    "## Siga as instruções de cada exercício e utilize a estrutura de desvio de fluxo if else e a classe Scanner para interagir com o usuário e realizar os procedimentos necessários. "
   ]
  },
  {
   "cell_type": "markdown",
   "id": "a34c72a4-4b94-42e4-9773-f500eb87f2f1",
   "metadata": {},
   "source": [
    "1 - Crie uma classe em Java solicitando ao usuário para insirir o valor total de uma compra e o tipo de cliente (regular ou especial). Se for cliente especial, conceda um desconto de 10% no valor total. Caso contrário, conceda um desconto de 5%. Em seguida, exiba o valor final após o desconto."
   ]
  },
  {
   "cell_type": "code",
   "execution_count": null,
   "id": "791f887f-fc7b-4803-a284-33ac49dff110",
   "metadata": {
    "vscode": {
     "languageId": "java"
    }
   },
   "outputs": [],
   "source": [
    "import java.util.Scanner;\n",
    "public class e1 {\n",
    "    \n",
    "    public static void main(String[] args) {\n",
    "            Scanner N = new Scanner(System.in);\n",
    "            System.out.println(\"Digite o valor da compra:\");\n",
    "            int num = N.nextInt();\n",
    "            System.out.println(\"Tipo do cliente:\");\n",
    "            String c = N.next();\n",
    "\n",
    "        if (c.equals(\"regular\")){           \n",
    "            int regular = num*5/100;\n",
    "            System.err.println(num-regular);}\n",
    "\n",
    "        if (c.equals(\"especial\")){\n",
    "            int especial = num*10/100;\n",
    "            System.err.println(num-especial);\n",
    "        }\n",
    "}\n",
    "}"
   ]
  },
  {
   "cell_type": "markdown",
   "id": "68496b37-d1a1-4811-a8a9-a6420f28d6bc",
   "metadata": {},
   "source": [
    "2 - Crie uma classe em Java que peça ao usuário para inserir um ano e verifique se é um ano bissexto ou não. Um ano bissexto é aquele que é divisível por 4, exceto os anos que são divisíveis por 100, a menos que sejam divisíveis por 400."
   ]
  },
  {
   "cell_type": "code",
   "execution_count": null,
   "id": "b244b0ea-4fc5-4be4-9858-a85593eb214a",
   "metadata": {
    "vscode": {
     "languageId": "java"
    }
   },
   "outputs": [],
   "source": [
    "import java.util.Scanner;\n",
    "\n",
    "public class e2 {\n",
    "     public static void main(String[] args) {\n",
    "        Scanner N = new Scanner(System.in);\n",
    "        System.out.println(\"Digite o ano\");\n",
    "        int ano = N.nextInt();\n",
    "\n",
    "        if(ano%4 == 0 && ano%100 != 0){\n",
    "            System.err.println(\"O ano \" + ano+ \" é bixesto\");\n",
    "        }\n",
    "        else{\n",
    "            System.err.println(\"O ano \" + ano+ \" não é bixesto\");\n",
    "        }\n",
    "}}\n"
   ]
  },
  {
   "cell_type": "markdown",
   "id": "a4d72213-0bbe-4ef2-82e8-41961a733523",
   "metadata": {},
   "source": [
    "3 - Crie uma classe em Java que solicite ao usuário para inserir três números e ordene-os em ordem crescente utilizando estruturas de if else."
   ]
  },
  {
   "cell_type": "code",
   "execution_count": null,
   "id": "ce4f5e04-8de3-4763-9b64-56a7c99552f8",
   "metadata": {
    "vscode": {
     "languageId": "java"
    }
   },
   "outputs": [],
   "source": [
    "\n",
    "import java.util.Scanner;\n",
    "public class e3 {\n",
    "    public static void main(String[] args) {\n",
    "        Scanner N = new Scanner(System.in);\n",
    "        System.out.println(\"Digite o numero 1, numero 2 e o numero 3: \");\n",
    "        int n1 = N.nextInt();\n",
    "        int n2 = N.nextInt();\n",
    "        int n3 = N.nextInt();\n",
    "        int men, med, mai;\n",
    "        if (n1 <= n2 && n1 <= n3) {\n",
    "            men = n1;\n",
    "            if (n2 <= n3) {\n",
    "                med = n2;\n",
    "                mai = n3;\n",
    "            } else {\n",
    "                med = n3;\n",
    "                mai = n2;\n",
    "            }\n",
    "        } else if (n2 <= n1 && n2 <= n3) {\n",
    "            men = n2;\n",
    "            if (n1 <= n3) {\n",
    "                med = n1;\n",
    "                mai = n3;\n",
    "            } else {\n",
    "                med = n3;\n",
    "                mai = n1;\n",
    "            }\n",
    "        } else {\n",
    "            men = n3;\n",
    "            if (n1 <= n2) {\n",
    "                med = n1;\n",
    "                mai = n2;\n",
    "            } else {\n",
    "                med = n2;\n",
    "                mai = n1;\n",
    "            }\n",
    "        }\n",
    "        System.out.println(\"Saida em ordem: \" + men + \" \" + med + \" \" + mai);\n",
    "    }\n",
    "}"
   ]
  },
  {
   "cell_type": "markdown",
   "id": "739b3828-4bee-42be-88c4-e45ac293cda8",
   "metadata": {},
   "source": [
    "4 - Crie uma classe em Java que solicite uma letra do usuário e use if else para determinar se é uma vogal ou consoante."
   ]
  },
  {
   "cell_type": "code",
   "execution_count": null,
   "id": "e9c08d3d-4b9c-41e8-be15-6d0191ff217f",
   "metadata": {
    "vscode": {
     "languageId": "java"
    }
   },
   "outputs": [],
   "source": [
    "import java.util.Scanner;\n",
    "public class e4 {\n",
    "    \n",
    "\n",
    "     public static void main(String[] args) {\n",
    "        Scanner N = new Scanner(System.in);\n",
    "        System.out.println(\"Digite uma letra\");\n",
    "        String letra = N.next();\n",
    "\n",
    "        if(letra.equals(\"A\")||letra.equals(\"E\")||letra.equals(\"I\")||letra.equals(\"O\")||letra.equals(\"U\")letra.equals(\"a\")||letra.equals(\"e\")||letra.equals(\"i\")||letra.equals(\"o\")||letra.equals(\"u\")){\n",
    "            System.err.println(\"A letra \" + letra + \" é uma vogal\");\n",
    "        }\n",
    "        else{\n",
    "            System.err.println(\"A letra \" + letra + \" é uma consoante\");\n",
    "        }\n",
    "}}\n"
   ]
  },
  {
   "cell_type": "markdown",
   "id": "72dee444-9b77-46e2-b13d-d85ee28d2a2b",
   "metadata": {},
   "source": [
    "5 - Crie uma classe em Java que peça ao usuário para inserir três valores que representem os lados de um triângulo. Use if else para determinar se é um triângulo equilátero, isósceles ou escaleno."
   ]
  },
  {
   "cell_type": "code",
   "execution_count": null,
   "id": "4e1c2ae8-d083-4db7-9d30-3835abc58a0a",
   "metadata": {
    "vscode": {
     "languageId": "java"
    }
   },
   "outputs": [],
   "source": [
    "import java.util.Scanner;\n",
    "\n",
    "public class e5 {\n",
    "    public static void main(String[] args) {\n",
    "        Scanner N = new Scanner(System.in);\n",
    "        System.out.println(\"Digite o numero 1, numero 2 e o numero 3: \");\n",
    "        int n1 = N.nextInt();\n",
    "        int n2 = N.nextInt();\n",
    "        int n3 = N.nextInt();\n",
    "        \n",
    "        if (n1 == n2 && n2 == n3 && n1 == n3) {\n",
    "            System.err.println(\"Este é um Triângulo Equilátero\");\n",
    "        } else if (n1 == n2 || n1 == n3 || n2 == n3) {\n",
    "            System.err.println(\"Este é um Triângulo Isósceles\");\n",
    "        } else {\n",
    "            System.err.println(\"Este é um Triângulo Escaleno\");\n",
    "        }\n",
    "    }\n",
    "}"
   ]
  }
 ],
 "metadata": {
  "kernelspec": {
   "display_name": "Java",
   "language": "java",
   "name": "java"
  },
  "language_info": {
   "codemirror_mode": "java",
   "file_extension": ".jshell",
   "mimetype": "text/x-java-source",
   "name": "Java",
   "pygments_lexer": "java",
   "version": "21.0.1+12-LTS-29"
  }
 },
 "nbformat": 4,
 "nbformat_minor": 5
}
